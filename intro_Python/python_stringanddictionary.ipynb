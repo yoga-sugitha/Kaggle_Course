{
 "cells": [
  {
   "cell_type": "code",
   "execution_count": 1,
   "id": "ad0d5b6f-cbf0-4b21-a66a-911449338fd5",
   "metadata": {},
   "outputs": [
    {
     "data": {
      "text/plain": [
       "True"
      ]
     },
     "execution_count": 1,
     "metadata": {},
     "output_type": "execute_result"
    }
   ],
   "source": [
    "x = 'Pluto is a planet'\n",
    "y = \"Pluto is a planet\"\n",
    "x == y"
   ]
  },
  {
   "cell_type": "code",
   "execution_count": 3,
   "id": "30ab1fa8-d70f-4d20-a060-4191433f1ce0",
   "metadata": {},
   "outputs": [
    {
     "data": {
      "text/plain": [
       "\"pluto's a planet!\""
      ]
     },
     "execution_count": 3,
     "metadata": {},
     "output_type": "execute_result"
    }
   ],
   "source": [
    "'pluto\\'s a planet!'"
   ]
  },
  {
   "cell_type": "code",
   "execution_count": 20,
   "id": "fe61109a-e206-4986-9c14-691dd98a9ff7",
   "metadata": {},
   "outputs": [
    {
     "name": "stdout",
     "output_type": "stream",
     "text": [
      "hi\n",
      "all\n",
      "how\n"
     ]
    }
   ],
   "source": [
    "x = '''hi\n",
    "all\n",
    "how'''\n",
    "print(x)"
   ]
  },
  {
   "cell_type": "code",
   "execution_count": 21,
   "id": "bc7359f1-537e-49ef-bd60-dc173df874bb",
   "metadata": {},
   "outputs": [
    {
     "data": {
      "text/plain": [
       "True"
      ]
     },
     "execution_count": 21,
     "metadata": {},
     "output_type": "execute_result"
    }
   ],
   "source": [
    "y='hi\\nall\\nhow'\n",
    "x == y"
   ]
  },
  {
   "cell_type": "code",
   "execution_count": 23,
   "id": "39f6a7c9-620d-4a5c-9e2b-ad6374813046",
   "metadata": {},
   "outputs": [
    {
     "data": {
      "text/plain": [
       "'\\nhow'"
      ]
     },
     "execution_count": 23,
     "metadata": {},
     "output_type": "execute_result"
    }
   ],
   "source": [
    "x[-4:]"
   ]
  },
  {
   "cell_type": "code",
   "execution_count": 24,
   "id": "56b7fee3-d221-4dd9-bb3e-00f40ade30f1",
   "metadata": {},
   "outputs": [
    {
     "data": {
      "text/plain": [
       "10"
      ]
     },
     "execution_count": 24,
     "metadata": {},
     "output_type": "execute_result"
    }
   ],
   "source": [
    "len(x)"
   ]
  },
  {
   "cell_type": "code",
   "execution_count": 25,
   "id": "eaf1e87c-0832-4eb4-9d39-0df368846dfc",
   "metadata": {},
   "outputs": [
    {
     "data": {
      "text/plain": [
       "['h ', 'i ', '\\n ', 'a ', 'l ', 'l ', '\\n ', 'h ', 'o ', 'w ']"
      ]
     },
     "execution_count": 25,
     "metadata": {},
     "output_type": "execute_result"
    }
   ],
   "source": [
    "[char+' ' for char in x]"
   ]
  },
  {
   "cell_type": "markdown",
   "id": "45e7e412-5bff-4a27-85b7-b93b529cd0c8",
   "metadata": {},
   "source": [
    "String method"
   ]
  },
  {
   "cell_type": "code",
   "execution_count": 26,
   "id": "2dd0b1f8-838d-4e1b-90dd-f9589a7314ce",
   "metadata": {},
   "outputs": [
    {
     "data": {
      "text/plain": [
       "'PLUTO IS PLANET'"
      ]
     },
     "execution_count": 26,
     "metadata": {},
     "output_type": "execute_result"
    }
   ],
   "source": [
    "claim = 'pluto is planet'\n",
    "claim.upper()"
   ]
  },
  {
   "cell_type": "code",
   "execution_count": 33,
   "id": "7b3d1330-a8a0-46e2-a032-f03a6db95b33",
   "metadata": {},
   "outputs": [],
   "source": [
    "def ster(st):\n",
    "    for x in range(len(st)-1):\n",
    "        if st[x] == st[x+1]:\n",
    "            return True\n",
    "    return False"
   ]
  },
  {
   "cell_type": "code",
   "execution_count": 34,
   "id": "8412cf82-4918-4b16-818b-f0923b719328",
   "metadata": {},
   "outputs": [
    {
     "data": {
      "text/plain": [
       "False"
      ]
     },
     "execution_count": 34,
     "metadata": {},
     "output_type": "execute_result"
    }
   ],
   "source": [
    "ster(claim)"
   ]
  },
  {
   "cell_type": "code",
   "execution_count": 35,
   "id": "74e562f0-15b5-4a65-a08b-2005dc170afe",
   "metadata": {},
   "outputs": [],
   "source": [
    "t = claim.split()"
   ]
  },
  {
   "cell_type": "code",
   "execution_count": 36,
   "id": "a3047489-152d-48c5-9ce5-14ac7f832ac6",
   "metadata": {},
   "outputs": [
    {
     "data": {
      "text/plain": [
       "['pluto', 'is', 'planet']"
      ]
     },
     "execution_count": 36,
     "metadata": {},
     "output_type": "execute_result"
    }
   ],
   "source": [
    "t"
   ]
  },
  {
   "cell_type": "code",
   "execution_count": 37,
   "id": "40ac8ef8-1a9e-4eee-a0a7-cead2467c88c",
   "metadata": {},
   "outputs": [],
   "source": [
    "a,b,c = claim.split(' ')"
   ]
  },
  {
   "cell_type": "code",
   "execution_count": 38,
   "id": "273c1878-f328-4381-8569-a7d978870e20",
   "metadata": {},
   "outputs": [
    {
     "data": {
      "text/plain": [
       "('pluto', 'is', 'planet')"
      ]
     },
     "execution_count": 38,
     "metadata": {},
     "output_type": "execute_result"
    }
   ],
   "source": [
    "a,b,c"
   ]
  },
  {
   "cell_type": "code",
   "execution_count": 39,
   "id": "96e9bd4c-3426-465d-8140-c01b1aff033b",
   "metadata": {},
   "outputs": [
    {
     "data": {
      "text/plain": [
       "'pluto'"
      ]
     },
     "execution_count": 39,
     "metadata": {},
     "output_type": "execute_result"
    }
   ],
   "source": [
    "a"
   ]
  },
  {
   "cell_type": "code",
   "execution_count": 42,
   "id": "8c08523a-ff1a-469d-9aa3-55d02445208b",
   "metadata": {},
   "outputs": [
    {
     "data": {
      "text/plain": [
       "'pluto/is/planet'"
      ]
     },
     "execution_count": 42,
     "metadata": {},
     "output_type": "execute_result"
    }
   ],
   "source": [
    "'/'.join([a,b,c])"
   ]
  },
  {
   "cell_type": "code",
   "execution_count": 43,
   "id": "bf0ed430-b7ec-4648-9395-79ea7a4ada99",
   "metadata": {},
   "outputs": [
    {
     "data": {
      "text/plain": [
       "'PLUTO-_-IS-_-PLANET'"
      ]
     },
     "execution_count": 43,
     "metadata": {},
     "output_type": "execute_result"
    }
   ],
   "source": [
    "'-_-'.join(ts.upper() for ts in t )"
   ]
  },
  {
   "cell_type": "code",
   "execution_count": 45,
   "id": "201cdf0b-42ec-4362-972e-d75f272745ad",
   "metadata": {},
   "outputs": [],
   "source": [
    "planet = 'pluto'"
   ]
  },
  {
   "cell_type": "code",
   "execution_count": 46,
   "id": "93ce267f-408e-4277-a71f-5ff97f348e64",
   "metadata": {},
   "outputs": [
    {
     "data": {
      "text/plain": [
       "'pluto, hi there'"
      ]
     },
     "execution_count": 46,
     "metadata": {},
     "output_type": "execute_result"
    }
   ],
   "source": [
    "planet + ', hi there'"
   ]
  },
  {
   "cell_type": "code",
   "execution_count": 47,
   "id": "2fb91a9c-c0eb-4f66-b913-41934df29a3b",
   "metadata": {},
   "outputs": [
    {
     "data": {
      "text/plain": [
       "'pluto is8planet'"
      ]
     },
     "execution_count": 47,
     "metadata": {},
     "output_type": "execute_result"
    }
   ],
   "source": [
    "planet + ' is' + str(8) +'planet'"
   ]
  },
  {
   "cell_type": "code",
   "execution_count": 48,
   "id": "6c83aff4-ea07-4c8d-b56b-c686f0af0346",
   "metadata": {},
   "outputs": [
    {
     "data": {
      "text/plain": [
       "'pluto, hi there be the 8 to me'"
      ]
     },
     "execution_count": 48,
     "metadata": {},
     "output_type": "execute_result"
    }
   ],
   "source": [
    "'{}, hi there be the {} to me'.format(planet, 8)"
   ]
  },
  {
   "cell_type": "code",
   "execution_count": 49,
   "id": "b1c3cec3-d05e-40a3-9cab-c0b52fdb255f",
   "metadata": {},
   "outputs": [
    {
     "data": {
      "text/plain": [
       "\"pluto weighs about 1.3e+22 kilograms (0.218% of Earth's mass). It is home to 52,910,390 Plutonians.\""
      ]
     },
     "execution_count": 49,
     "metadata": {},
     "output_type": "execute_result"
    }
   ],
   "source": [
    "pluto_mass = 1.303 * 10**22\n",
    "earth_mass = 5.9722 * 10**24\n",
    "population = 52910390\n",
    "#         2 decimal points   3 decimal points, format as percent     separate with commas\n",
    "\"{} weighs about {:.2} kilograms ({:.3%} of Earth's mass). It is home to {:,} Plutonians.\".format(\n",
    "    planet, pluto_mass, pluto_mass / earth_mass, population,\n",
    ")"
   ]
  },
  {
   "cell_type": "code",
   "execution_count": 51,
   "id": "fac0dd03-db7f-4079-9c7b-605cd52ba35a",
   "metadata": {},
   "outputs": [
    {
     "name": "stdout",
     "output_type": "stream",
     "text": [
      "Pluto's a planet.\n",
      "No, it's a dwarf planetplanet.\n",
      "planet!\n",
      "dwarf planet!\n"
     ]
    }
   ],
   "source": [
    "s = \"\"\"Pluto's a {0}.\n",
    "No, it's a {1}{0}.\n",
    "{0}!\n",
    "{1}!\"\"\".format('planet', 'dwarf planet')\n",
    "print(s)"
   ]
  },
  {
   "cell_type": "markdown",
   "id": "b8e264f0-73c0-4619-a6b8-55975b804873",
   "metadata": {},
   "source": [
    "Dictionary"
   ]
  },
  {
   "cell_type": "code",
   "execution_count": 52,
   "id": "acc026af-fe57-4a3a-84fe-1bbb594cf0d6",
   "metadata": {},
   "outputs": [],
   "source": [
    "number = {1:'one', 2:'two'}"
   ]
  },
  {
   "cell_type": "code",
   "execution_count": 54,
   "id": "73326d7f-dfc4-4d69-8bd8-ea4dffbd2daf",
   "metadata": {},
   "outputs": [
    {
     "data": {
      "text/plain": [
       "'two'"
      ]
     },
     "execution_count": 54,
     "metadata": {},
     "output_type": "execute_result"
    }
   ],
   "source": [
    "number[2]"
   ]
  },
  {
   "cell_type": "code",
   "execution_count": 55,
   "id": "eb4b1247-86ac-4f96-94c2-6702d126f9cd",
   "metadata": {},
   "outputs": [
    {
     "data": {
      "text/plain": [
       "{1: 'one', 2: 'two', 3: 'Three'}"
      ]
     },
     "execution_count": 55,
     "metadata": {},
     "output_type": "execute_result"
    }
   ],
   "source": [
    "number[3]='Three'\n",
    "number"
   ]
  },
  {
   "cell_type": "code",
   "execution_count": 64,
   "id": "8f280224-f864-4fd5-9205-654b69c1497a",
   "metadata": {},
   "outputs": [
    {
     "data": {
      "text/plain": [
       "{1: 'one', 2: 'two', 3: 'Three', 'four': 4}"
      ]
     },
     "execution_count": 64,
     "metadata": {},
     "output_type": "execute_result"
    }
   ],
   "source": [
    "number['four']=4\n",
    "number"
   ]
  },
  {
   "cell_type": "code",
   "execution_count": 58,
   "id": "f738d294-67d5-4451-a279-08495d21ff9e",
   "metadata": {},
   "outputs": [],
   "source": [
    "num = {'one':1,2:'two'}"
   ]
  },
  {
   "cell_type": "code",
   "execution_count": 59,
   "id": "0441c8c8-06ae-47fc-aa0e-6d904a1bdd42",
   "metadata": {},
   "outputs": [
    {
     "data": {
      "text/plain": [
       "'two'"
      ]
     },
     "execution_count": 59,
     "metadata": {},
     "output_type": "execute_result"
    }
   ],
   "source": [
    "num[2]"
   ]
  },
  {
   "cell_type": "code",
   "execution_count": 60,
   "id": "8b2b5532-e592-4bb4-a4fe-e26238451897",
   "metadata": {},
   "outputs": [
    {
     "data": {
      "text/plain": [
       "1"
      ]
     },
     "execution_count": 60,
     "metadata": {},
     "output_type": "execute_result"
    }
   ],
   "source": [
    "num['one']"
   ]
  },
  {
   "cell_type": "code",
   "execution_count": 61,
   "id": "4cc0624a-6836-4903-973e-02333d81c034",
   "metadata": {},
   "outputs": [],
   "source": [
    "num['three']=3"
   ]
  },
  {
   "cell_type": "code",
   "execution_count": 62,
   "id": "b7d48288-b7b5-443e-8873-60b3768f6af9",
   "metadata": {},
   "outputs": [],
   "source": [
    "num[4]='four'"
   ]
  },
  {
   "cell_type": "code",
   "execution_count": 63,
   "id": "88d2771a-0b1d-4d28-a4b8-079c39fc6bef",
   "metadata": {},
   "outputs": [
    {
     "data": {
      "text/plain": [
       "{'one': 1, 2: 'two', 'three': 3, 4: 'four'}"
      ]
     },
     "execution_count": 63,
     "metadata": {},
     "output_type": "execute_result"
    }
   ],
   "source": [
    "num"
   ]
  },
  {
   "cell_type": "code",
   "execution_count": 65,
   "id": "4ed59f34-0807-400e-b85d-084dc2097266",
   "metadata": {},
   "outputs": [],
   "source": [
    "planets = ['Mercury', 'Venus', 'Earth', 'Mars', 'Jupiter', 'Saturn', 'Uranus', 'Neptune']"
   ]
  },
  {
   "cell_type": "code",
   "execution_count": 69,
   "id": "6c9c736f-1c9b-4c45-83ab-21c8ab178dde",
   "metadata": {},
   "outputs": [
    {
     "data": {
      "text/plain": [
       "{'Mercury': 'M',\n",
       " 'Venus': 'V',\n",
       " 'Earth': 'E',\n",
       " 'Mars': 'M',\n",
       " 'Jupiter': 'J',\n",
       " 'Saturn': 'S',\n",
       " 'Uranus': 'U',\n",
       " 'Neptune': 'N'}"
      ]
     },
     "execution_count": 69,
     "metadata": {},
     "output_type": "execute_result"
    }
   ],
   "source": [
    "planet_initial = {planet: planet[0] for planet in planets}\n",
    "planet_initial"
   ]
  },
  {
   "cell_type": "code",
   "execution_count": 74,
   "id": "54977031-4e41-470a-8e53-940154fbb3bc",
   "metadata": {},
   "outputs": [
    {
     "data": {
      "text/plain": [
       "True"
      ]
     },
     "execution_count": 74,
     "metadata": {},
     "output_type": "execute_result"
    }
   ],
   "source": [
    "'Mars' in planet_initial"
   ]
  },
  {
   "cell_type": "code",
   "execution_count": 78,
   "id": "301cf274-88a2-4652-ae61-9a38035d3ab8",
   "metadata": {},
   "outputs": [
    {
     "name": "stdout",
     "output_type": "stream",
     "text": [
      "one = 1\n",
      "2 = two\n",
      "three = 3\n",
      "4 = four\n"
     ]
    }
   ],
   "source": [
    "for k in num:\n",
    "    print('{} = {}'.format(k, num[k]))"
   ]
  },
  {
   "cell_type": "code",
   "execution_count": 79,
   "id": "090c50be-e49b-429b-b80a-e353dc1b399b",
   "metadata": {},
   "outputs": [
    {
     "data": {
      "text/plain": [
       "'E J M M N S U V'"
      ]
     },
     "execution_count": 79,
     "metadata": {},
     "output_type": "execute_result"
    }
   ],
   "source": [
    "' '.join(sorted(planet_initial.values()))"
   ]
  },
  {
   "cell_type": "code",
   "execution_count": 83,
   "id": "35ddcf7d-9be8-4d2b-b111-95b2ebf5c2c2",
   "metadata": {},
   "outputs": [
    {
     "data": {
      "text/plain": [
       "['E', 'J', 'M', 'M', 'N', 'S', 'U', 'V']"
      ]
     },
     "execution_count": 83,
     "metadata": {},
     "output_type": "execute_result"
    }
   ],
   "source": [
    "sorted(planet_initial.values())"
   ]
  },
  {
   "cell_type": "markdown",
   "id": "bf39d55e-15b4-46ac-8592-fb06d3574a89",
   "metadata": {},
   "source": [
    "value() is used to collect value from dictionary"
   ]
  },
  {
   "cell_type": "code",
   "execution_count": 87,
   "id": "ead6b9a5-be01-43ca-bf79-4d7693a773bc",
   "metadata": {},
   "outputs": [
    {
     "data": {
      "text/plain": [
       "['Earth', 'Jupiter', 'Mars', 'Mercury', 'Neptune', 'Saturn', 'Uranus', 'Venus']"
      ]
     },
     "execution_count": 87,
     "metadata": {},
     "output_type": "execute_result"
    }
   ],
   "source": [
    "sorted(planet_initial.keys())"
   ]
  },
  {
   "cell_type": "code",
   "execution_count": 88,
   "id": "1b371664-e194-416d-ad66-5bfcd22806e2",
   "metadata": {},
   "outputs": [
    {
     "data": {
      "text/plain": [
       "dict_items([('Mercury', 'M'), ('Venus', 'V'), ('Earth', 'E'), ('Mars', 'M'), ('Jupiter', 'J'), ('Saturn', 'S'), ('Uranus', 'U'), ('Neptune', 'N')])"
      ]
     },
     "execution_count": 88,
     "metadata": {},
     "output_type": "execute_result"
    }
   ],
   "source": [
    "planet_initial.items()"
   ]
  },
  {
   "cell_type": "code",
   "execution_count": 89,
   "id": "7dbe2cdc-506c-4170-8bd3-7bd8433bf37f",
   "metadata": {},
   "outputs": [
    {
     "data": {
      "text/plain": [
       "{'Mercury': 'M',\n",
       " 'Venus': 'V',\n",
       " 'Earth': 'E',\n",
       " 'Mars': 'M',\n",
       " 'Jupiter': 'J',\n",
       " 'Saturn': 'S',\n",
       " 'Uranus': 'U',\n",
       " 'Neptune': 'N'}"
      ]
     },
     "execution_count": 89,
     "metadata": {},
     "output_type": "execute_result"
    }
   ],
   "source": [
    "planet_initial"
   ]
  },
  {
   "cell_type": "code",
   "execution_count": 92,
   "id": "0001da09-fb31-4d1f-a310-7a17d7dc174a",
   "metadata": {},
   "outputs": [
    {
     "name": "stdout",
     "output_type": "stream",
     "text": [
      "Mercury begin with \"M\"\n",
      "Venus begin with \"V\"\n",
      "Earth begin with \"E\"\n",
      "Mars begin with \"M\"\n",
      "Jupiter begin with \"J\"\n",
      "Saturn begin with \"S\"\n",
      "Uranus begin with \"U\"\n",
      "Neptune begin with \"N\"\n"
     ]
    }
   ],
   "source": [
    "for p, n in planet_initial.items():\n",
    "    print('{} begin with \"{}\"'.format(p,n))"
   ]
  },
  {
   "cell_type": "code",
   "execution_count": 97,
   "id": "8b54c9bb-e694-46af-962a-fd8a9e154cfb",
   "metadata": {},
   "outputs": [
    {
     "name": "stdout",
     "output_type": "stream",
     "text": [
      "Mercury begins with \"M\"\n",
      "Venus begins with \"V\"\n",
      "Earth begins with \"E\"\n",
      "Mars begins with \"M\"\n",
      "Jupiter begins with \"J\"\n",
      "Saturn begins with \"S\"\n",
      "Uranus begins with \"U\"\n",
      "Neptune begins with \"N\"\n"
     ]
    }
   ],
   "source": [
    "for planet, initial in planet_initial.items():\n",
    "    print(\"{} begins with \\\"{}\\\"\".format(planet.rjust(1), initial))"
   ]
  },
  {
   "cell_type": "code",
   "execution_count": 95,
   "id": "2ed7214f-b846-45f9-819f-bd4fdaa52c9b",
   "metadata": {},
   "outputs": [
    {
     "name": "stdout",
     "output_type": "stream",
     "text": [
      "Help on built-in function rjust:\n",
      "\n",
      "rjust(width, fillchar=' ', /) method of builtins.str instance\n",
      "    Return a right-justified string of length width.\n",
      "    \n",
      "    Padding is done using the specified fill character (default is a space).\n",
      "\n"
     ]
    }
   ],
   "source": [
    "help(planet.rjust)"
   ]
  },
  {
   "cell_type": "code",
   "execution_count": 98,
   "id": "0a4e8d7d-8b20-4dd8-8e1c-d835e79baec2",
   "metadata": {},
   "outputs": [
    {
     "name": "stdout",
     "output_type": "stream",
     "text": [
      "Help on class dict in module builtins:\n",
      "\n",
      "class dict(object)\n",
      " |  dict() -> new empty dictionary\n",
      " |  dict(mapping) -> new dictionary initialized from a mapping object's\n",
      " |      (key, value) pairs\n",
      " |  dict(iterable) -> new dictionary initialized as if via:\n",
      " |      d = {}\n",
      " |      for k, v in iterable:\n",
      " |          d[k] = v\n",
      " |  dict(**kwargs) -> new dictionary initialized with the name=value pairs\n",
      " |      in the keyword argument list.  For example:  dict(one=1, two=2)\n",
      " |  \n",
      " |  Built-in subclasses:\n",
      " |      StgDict\n",
      " |  \n",
      " |  Methods defined here:\n",
      " |  \n",
      " |  __contains__(self, key, /)\n",
      " |      True if the dictionary has the specified key, else False.\n",
      " |  \n",
      " |  __delitem__(self, key, /)\n",
      " |      Delete self[key].\n",
      " |  \n",
      " |  __eq__(self, value, /)\n",
      " |      Return self==value.\n",
      " |  \n",
      " |  __ge__(self, value, /)\n",
      " |      Return self>=value.\n",
      " |  \n",
      " |  __getattribute__(self, name, /)\n",
      " |      Return getattr(self, name).\n",
      " |  \n",
      " |  __getitem__(...)\n",
      " |      x.__getitem__(y) <==> x[y]\n",
      " |  \n",
      " |  __gt__(self, value, /)\n",
      " |      Return self>value.\n",
      " |  \n",
      " |  __init__(self, /, *args, **kwargs)\n",
      " |      Initialize self.  See help(type(self)) for accurate signature.\n",
      " |  \n",
      " |  __ior__(self, value, /)\n",
      " |      Return self|=value.\n",
      " |  \n",
      " |  __iter__(self, /)\n",
      " |      Implement iter(self).\n",
      " |  \n",
      " |  __le__(self, value, /)\n",
      " |      Return self<=value.\n",
      " |  \n",
      " |  __len__(self, /)\n",
      " |      Return len(self).\n",
      " |  \n",
      " |  __lt__(self, value, /)\n",
      " |      Return self<value.\n",
      " |  \n",
      " |  __ne__(self, value, /)\n",
      " |      Return self!=value.\n",
      " |  \n",
      " |  __or__(self, value, /)\n",
      " |      Return self|value.\n",
      " |  \n",
      " |  __repr__(self, /)\n",
      " |      Return repr(self).\n",
      " |  \n",
      " |  __reversed__(self, /)\n",
      " |      Return a reverse iterator over the dict keys.\n",
      " |  \n",
      " |  __ror__(self, value, /)\n",
      " |      Return value|self.\n",
      " |  \n",
      " |  __setitem__(self, key, value, /)\n",
      " |      Set self[key] to value.\n",
      " |  \n",
      " |  __sizeof__(...)\n",
      " |      D.__sizeof__() -> size of D in memory, in bytes\n",
      " |  \n",
      " |  clear(...)\n",
      " |      D.clear() -> None.  Remove all items from D.\n",
      " |  \n",
      " |  copy(...)\n",
      " |      D.copy() -> a shallow copy of D\n",
      " |  \n",
      " |  get(self, key, default=None, /)\n",
      " |      Return the value for key if key is in the dictionary, else default.\n",
      " |  \n",
      " |  items(...)\n",
      " |      D.items() -> a set-like object providing a view on D's items\n",
      " |  \n",
      " |  keys(...)\n",
      " |      D.keys() -> a set-like object providing a view on D's keys\n",
      " |  \n",
      " |  pop(...)\n",
      " |      D.pop(k[,d]) -> v, remove specified key and return the corresponding value.\n",
      " |      \n",
      " |      If key is not found, default is returned if given, otherwise KeyError is raised\n",
      " |  \n",
      " |  popitem(self, /)\n",
      " |      Remove and return a (key, value) pair as a 2-tuple.\n",
      " |      \n",
      " |      Pairs are returned in LIFO (last-in, first-out) order.\n",
      " |      Raises KeyError if the dict is empty.\n",
      " |  \n",
      " |  setdefault(self, key, default=None, /)\n",
      " |      Insert key with a value of default if key is not in the dictionary.\n",
      " |      \n",
      " |      Return the value for key if key is in the dictionary, else default.\n",
      " |  \n",
      " |  update(...)\n",
      " |      D.update([E, ]**F) -> None.  Update D from dict/iterable E and F.\n",
      " |      If E is present and has a .keys() method, then does:  for k in E: D[k] = E[k]\n",
      " |      If E is present and lacks a .keys() method, then does:  for k, v in E: D[k] = v\n",
      " |      In either case, this is followed by: for k in F:  D[k] = F[k]\n",
      " |  \n",
      " |  values(...)\n",
      " |      D.values() -> an object providing a view on D's values\n",
      " |  \n",
      " |  ----------------------------------------------------------------------\n",
      " |  Class methods defined here:\n",
      " |  \n",
      " |  __class_getitem__(...) from builtins.type\n",
      " |      See PEP 585\n",
      " |  \n",
      " |  fromkeys(iterable, value=None, /) from builtins.type\n",
      " |      Create a new dictionary with keys from iterable and values set to value.\n",
      " |  \n",
      " |  ----------------------------------------------------------------------\n",
      " |  Static methods defined here:\n",
      " |  \n",
      " |  __new__(*args, **kwargs) from builtins.type\n",
      " |      Create and return a new object.  See help(type) for accurate signature.\n",
      " |  \n",
      " |  ----------------------------------------------------------------------\n",
      " |  Data and other attributes defined here:\n",
      " |  \n",
      " |  __hash__ = None\n",
      "\n"
     ]
    }
   ],
   "source": [
    "help(dict)"
   ]
  },
  {
   "cell_type": "code",
   "execution_count": 102,
   "id": "03eac267-de51-4b11-b1ad-8f26d9eb1392",
   "metadata": {},
   "outputs": [
    {
     "name": "stdout",
     "output_type": "stream",
     "text": [
      "Neptune the key, N the value\n",
      "Uranus the key, U the value\n",
      "Saturn the key, S the value\n",
      "Jupiter the key, J the value\n",
      "Mars the key, M the value\n",
      "Earth the key, E the value\n",
      "Venus the key, V the value\n",
      "Mercury the key, M the value\n"
     ]
    }
   ],
   "source": [
    "for i,n in reversed(planet_initial.items()):\n",
    "    print('{} the key, {} the value'.format(i,n))"
   ]
  },
  {
   "cell_type": "markdown",
   "id": "57c7ed87-3457-4d03-99dc-0f7607814131",
   "metadata": {},
   "source": [
    "EXERCISE"
   ]
  },
  {
   "cell_type": "code",
   "execution_count": null,
   "id": "7d16642b-45d6-473d-a4b4-4cb45f9924cf",
   "metadata": {},
   "outputs": [],
   "source": []
  }
 ],
 "metadata": {
  "kernelspec": {
   "display_name": "Python 3 (ipykernel)",
   "language": "python",
   "name": "python3"
  },
  "language_info": {
   "codemirror_mode": {
    "name": "ipython",
    "version": 3
   },
   "file_extension": ".py",
   "mimetype": "text/x-python",
   "name": "python",
   "nbconvert_exporter": "python",
   "pygments_lexer": "ipython3",
   "version": "3.9.2"
  }
 },
 "nbformat": 4,
 "nbformat_minor": 5
}
