{
 "cells": [
  {
   "cell_type": "code",
   "execution_count": 1,
   "id": "127869f5-b735-46b8-bf29-a6e862676d68",
   "metadata": {},
   "outputs": [],
   "source": [
    "planets = ['Mercury', 'Venus', 'Earth', 'Mars', 'Jupiter', 'Saturn', 'Uranus', 'Neptune']"
   ]
  },
  {
   "cell_type": "code",
   "execution_count": 2,
   "id": "871662bd-e5f0-4676-a503-097698e16b37",
   "metadata": {},
   "outputs": [
    {
     "name": "stdout",
     "output_type": "stream",
     "text": [
      "Mercury Venus Earth Mars Jupiter Saturn Uranus Neptune "
     ]
    }
   ],
   "source": [
    "for planet in planets:\n",
    "    print(planet, end=' ')"
   ]
  },
  {
   "cell_type": "code",
   "execution_count": 3,
   "id": "745ebcf6-7d94-497d-b62f-ef48b8953304",
   "metadata": {},
   "outputs": [],
   "source": [
    "multiplicands = (2, 2, 2, 3, 3, 5)\n",
    "product = 1"
   ]
  },
  {
   "cell_type": "code",
   "execution_count": 4,
   "id": "fe4f2a43-500b-4b70-ad2a-4adfa957a5c7",
   "metadata": {},
   "outputs": [
    {
     "data": {
      "text/plain": [
       "360"
      ]
     },
     "execution_count": 4,
     "metadata": {},
     "output_type": "execute_result"
    }
   ],
   "source": [
    "for mult in multiplicands:\n",
    "    product = product * mult\n",
    "product"
   ]
  },
  {
   "cell_type": "code",
   "execution_count": 5,
   "id": "947abf4f-a970-4df3-90b3-6c63c7cf7121",
   "metadata": {},
   "outputs": [],
   "source": [
    "s = 'steganograpHy is the practicE of conceaLing a file, message, image, or video within another fiLe, message, image, Or video.'"
   ]
  },
  {
   "cell_type": "code",
   "execution_count": 6,
   "id": "e80ee7d1-aeb7-4bc5-bf37-6ed3b604a951",
   "metadata": {},
   "outputs": [
    {
     "name": "stdout",
     "output_type": "stream",
     "text": [
      "HELLO"
     ]
    }
   ],
   "source": [
    "msg =[]\n",
    "for char in s:\n",
    "    if char.isupper():\n",
    "        msg.append(char)\n",
    "        print(char, end='')"
   ]
  },
  {
   "cell_type": "code",
   "execution_count": 7,
   "id": "baad1f3b-eb57-40d8-a74a-ea3bfc730591",
   "metadata": {},
   "outputs": [
    {
     "name": "stdout",
     "output_type": "stream",
     "text": [
      "Help on built-in function isupper:\n",
      "\n",
      "isupper() method of builtins.str instance\n",
      "    Return True if the string is an uppercase string, False otherwise.\n",
      "    \n",
      "    A string is uppercase if all cased characters in the string are uppercase and\n",
      "    there is at least one cased character in the string.\n",
      "\n"
     ]
    }
   ],
   "source": [
    "help(char.isupper)"
   ]
  },
  {
   "cell_type": "code",
   "execution_count": 8,
   "id": "84fd4288-e2c2-4d78-bce5-e7799c5cc34f",
   "metadata": {},
   "outputs": [
    {
     "name": "stdout",
     "output_type": "stream",
     "text": [
      "['H', 'E', 'L', 'L', 'O']\n"
     ]
    }
   ],
   "source": [
    "print(msg)"
   ]
  },
  {
   "cell_type": "markdown",
   "id": "2c890add-c5a5-404a-b3dc-edd722b3a6b0",
   "metadata": {},
   "source": [
    "range()"
   ]
  },
  {
   "cell_type": "code",
   "execution_count": 9,
   "id": "8ba27038-5dbf-4a66-b24d-7d9c73446f57",
   "metadata": {},
   "outputs": [
    {
     "name": "stdout",
     "output_type": "stream",
     "text": [
      "doint work for i = 0\n",
      "doint work for i = 1\n",
      "doint work for i = 2\n",
      "doint work for i = 3\n",
      "doint work for i = 4\n"
     ]
    }
   ],
   "source": [
    "for i in range(5):\n",
    "    print('doint work for i =', i)"
   ]
  },
  {
   "cell_type": "code",
   "execution_count": 10,
   "id": "863ee045-448c-4b37-96c6-c6eb2777a49b",
   "metadata": {},
   "outputs": [
    {
     "name": "stdout",
     "output_type": "stream",
     "text": [
      "0 1 2 3 4 5 6 7 8 9 "
     ]
    }
   ],
   "source": [
    "#while loops\n",
    "i = 0\n",
    "while i < 10:\n",
    "    print(i, end=' ')\n",
    "    i +=1"
   ]
  },
  {
   "cell_type": "markdown",
   "id": "a3405395-6d8e-4e40-bc58-232a7f32cdf9",
   "metadata": {},
   "source": [
    "List Comprehensions"
   ]
  },
  {
   "cell_type": "code",
   "execution_count": 11,
   "id": "39124855-5e2e-46e3-884b-c57cc9205123",
   "metadata": {},
   "outputs": [
    {
     "data": {
      "text/plain": [
       "[0, 1, 4, 9, 16, 25, 36, 49, 64, 81]"
      ]
     },
     "execution_count": 11,
     "metadata": {},
     "output_type": "execute_result"
    }
   ],
   "source": [
    "squares = [n**2 for n in range(10)]\n",
    "squares"
   ]
  },
  {
   "cell_type": "code",
   "execution_count": 12,
   "id": "c1ee4225-d7c7-4f2c-b430-17556c9731e4",
   "metadata": {},
   "outputs": [
    {
     "data": {
      "text/plain": [
       "[0, 1, 4, 9, 16, 25, 36, 49, 64, 81]"
      ]
     },
     "execution_count": 12,
     "metadata": {},
     "output_type": "execute_result"
    }
   ],
   "source": [
    "squares = []\n",
    "for n in range(10):\n",
    "    squares.append(n**2)\n",
    "    \n",
    "squares"
   ]
  },
  {
   "cell_type": "code",
   "execution_count": 13,
   "id": "2c5ce039-9bc5-417b-853e-0454a75da93c",
   "metadata": {},
   "outputs": [],
   "source": [
    "planets = ['Mercury', 'Venus', 'Earth', 'Mars', 'Jupiter', \n",
    "           'Saturn', 'Uranus', 'Neptune']"
   ]
  },
  {
   "cell_type": "code",
   "execution_count": 14,
   "id": "0f6b99bc-d790-43ce-bf24-e2ae5d4cc56b",
   "metadata": {},
   "outputs": [
    {
     "data": {
      "text/plain": [
       "['Venus', 'Earth', 'Mars']"
      ]
     },
     "execution_count": 14,
     "metadata": {},
     "output_type": "execute_result"
    }
   ],
   "source": [
    "short_planets = [planet for planet in planets if len(planet) < 6]\n",
    "short_planets"
   ]
  },
  {
   "cell_type": "code",
   "execution_count": 15,
   "id": "b7b79d8b-080e-4190-a31d-8308bb640d6c",
   "metadata": {},
   "outputs": [],
   "source": [
    "looud_short_planets = [planet.upper() + '!' for planet in planets if len(planet) < 6]"
   ]
  },
  {
   "cell_type": "code",
   "execution_count": 16,
   "id": "92f6d385-9712-4807-a832-60edfb06a23d",
   "metadata": {},
   "outputs": [
    {
     "data": {
      "text/plain": [
       "['VENUS!', 'EARTH!', 'MARS!']"
      ]
     },
     "execution_count": 16,
     "metadata": {},
     "output_type": "execute_result"
    }
   ],
   "source": [
    "looud_short_planets"
   ]
  },
  {
   "cell_type": "code",
   "execution_count": 17,
   "id": "86e209ab-282b-42e1-b1a3-daad889dae79",
   "metadata": {},
   "outputs": [
    {
     "data": {
      "text/plain": [
       "['VENUS!', 'EARTH!', 'MARS!']"
      ]
     },
     "execution_count": 17,
     "metadata": {},
     "output_type": "execute_result"
    }
   ],
   "source": [
    "[\n",
    "    planet.upper() + '!'\n",
    "    for planet in planets\n",
    "    if len(planet) < 6\n",
    "]"
   ]
  },
  {
   "cell_type": "code",
   "execution_count": 18,
   "id": "bfa31ca1-d046-445d-85f5-0d25d2e2c6f2",
   "metadata": {},
   "outputs": [
    {
     "name": "stdout",
     "output_type": "stream",
     "text": [
      "Help on built-in function upper:\n",
      "\n",
      "upper() method of builtins.str instance\n",
      "    Return a copy of the string converted to uppercase.\n",
      "\n"
     ]
    }
   ],
   "source": [
    "help(planet.upper)"
   ]
  },
  {
   "cell_type": "code",
   "execution_count": 19,
   "id": "1d6ee6bf-4ac0-4530-8e0d-10827c94276d",
   "metadata": {},
   "outputs": [
    {
     "data": {
      "text/plain": [
       "[32, 32, 32, 32, 32, 32, 32, 32]"
      ]
     },
     "execution_count": 19,
     "metadata": {},
     "output_type": "execute_result"
    }
   ],
   "source": [
    "[32 for planet in planets]"
   ]
  },
  {
   "cell_type": "code",
   "execution_count": 20,
   "id": "2d1701d7-1b37-46f5-92aa-11ef80189e54",
   "metadata": {},
   "outputs": [],
   "source": [
    "def count_negatives(nums):\n",
    "    n_negative = 0\n",
    "    for num in nums:\n",
    "        if num < 0:\n",
    "            n_negative = n_negative + 1\n",
    "    return n_negative\n"
   ]
  },
  {
   "cell_type": "code",
   "execution_count": 21,
   "id": "e82d65a3-d483-47b8-b2f6-bc0f9a5d478e",
   "metadata": {},
   "outputs": [],
   "source": [
    "#solution id used list comprehensions\n",
    "def count_negatives(nums):\n",
    "    return len([num for num in nums if num < 0])"
   ]
  },
  {
   "cell_type": "code",
   "execution_count": 22,
   "id": "27ab63aa-8211-4582-8742-c4c1e3ee1c28",
   "metadata": {},
   "outputs": [],
   "source": [
    "def count_negatives(nums):\n",
    "    return sum([num < 0 for num in nums])"
   ]
  },
  {
   "cell_type": "markdown",
   "id": "1143bbdb-d3ce-4b6a-9fc1-4d0bf554f212",
   "metadata": {},
   "source": [
    "EXERCISE"
   ]
  },
  {
   "cell_type": "code",
   "execution_count": 23,
   "id": "6dbd5508-a16e-422c-8631-94fb297e8d3a",
   "metadata": {},
   "outputs": [],
   "source": [
    "def has_lucky_number(num):\n",
    "    return any(num % 7 == 0 for num in nums)"
   ]
  },
  {
   "cell_type": "code",
   "execution_count": 24,
   "id": "95b9d169-966e-47a3-92da-a24f333a075b",
   "metadata": {},
   "outputs": [
    {
     "name": "stdout",
     "output_type": "stream",
     "text": [
      "Help on built-in function any in module builtins:\n",
      "\n",
      "any(iterable, /)\n",
      "    Return True if bool(x) is True for any x in the iterable.\n",
      "    \n",
      "    If the iterable is empty, return False.\n",
      "\n"
     ]
    }
   ],
   "source": [
    "help(any)"
   ]
  },
  {
   "cell_type": "code",
   "execution_count": 25,
   "id": "648b1053-9c98-44de-a2b2-48919e6a48fd",
   "metadata": {},
   "outputs": [
    {
     "name": "stdout",
     "output_type": "stream",
     "text": [
      "Help on built-in function len in module builtins:\n",
      "\n",
      "len(obj, /)\n",
      "    Return the number of items in a container.\n",
      "\n"
     ]
    }
   ],
   "source": [
    "help(len)"
   ]
  },
  {
   "cell_type": "code",
   "execution_count": 34,
   "id": "488b50b8-016e-42f2-876a-f6b046415a43",
   "metadata": {},
   "outputs": [],
   "source": [
    "def elementwise_greater_than(L, thresh):\n",
    "    return [i > thresh for i in L]"
   ]
  },
  {
   "cell_type": "code",
   "execution_count": 35,
   "id": "9b60299e-2263-4f49-9a8f-beb507fe5aae",
   "metadata": {},
   "outputs": [
    {
     "name": "stdout",
     "output_type": "stream",
     "text": [
      "[False, False, False, True]\n"
     ]
    }
   ],
   "source": [
    "print(elementwise_greater_than([1, 2, 3, 4], 3)) "
   ]
  },
  {
   "cell_type": "code",
   "execution_count": 42,
   "id": "786f0033-a6f0-498d-b595-2c3c4c44ac62",
   "metadata": {},
   "outputs": [],
   "source": [
    "def menu_is_boring(meals):\n",
    "    for i in range(len(meals) - 1):\n",
    "        if meals[i] == meals[i+1]:\n",
    "            return True\n",
    "    return False"
   ]
  },
  {
   "cell_type": "code",
   "execution_count": 43,
   "id": "937e7cd9-c4b8-464c-9352-a20cde18978f",
   "metadata": {},
   "outputs": [
    {
     "name": "stdout",
     "output_type": "stream",
     "text": [
      "breakfastlunch\n",
      "lunchdinner\n",
      "dinnersnack\n",
      "snackdessert\n",
      "False\n"
     ]
    }
   ],
   "source": [
    "print(menu_is_boring( ['breakfast', 'lunch', 'dinner', 'snack', 'dessert']))"
   ]
  },
  {
   "cell_type": "code",
   "execution_count": null,
   "id": "618fa401-a4f9-4173-bb60-170acc2530e3",
   "metadata": {},
   "outputs": [],
   "source": [
    "# def estimate_average_slot_payout(n_runs):\n",
    "#     payout = [play_out_machine() - 1 for i in range(n_runs)]\n",
    "#     av_payout = sum(payout / n_runs)\n",
    "#     return av_payout"
   ]
  }
 ],
 "metadata": {
  "kernelspec": {
   "display_name": "Python 3 (ipykernel)",
   "language": "python",
   "name": "python3"
  },
  "language_info": {
   "codemirror_mode": {
    "name": "ipython",
    "version": 3
   },
   "file_extension": ".py",
   "mimetype": "text/x-python",
   "name": "python",
   "nbconvert_exporter": "python",
   "pygments_lexer": "ipython3",
   "version": "3.9.2"
  }
 },
 "nbformat": 4,
 "nbformat_minor": 5
}
